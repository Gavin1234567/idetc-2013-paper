{
 "metadata": {
  "name": "npendulum"
 },
 "nbformat": 3,
 "nbformat_minor": 0,
 "worksheets": [
  {
   "cells": [
    {
     "cell_type": "markdown",
     "metadata": {},
     "source": [
      "In this example problem we wil derive the equations of motion of an n-link pendulum on a cart and then develop a controller to stablize it. I was inspired after reading an example Mathmatica problem and how that this is all easily done with free, open source software.\n",
      "\n",
      "Description of problem. Show a figure of the problem here.\n",
      "\n",
      "First we import the necessary functionality from SymPy."
     ]
    },
    {
     "cell_type": "code",
     "collapsed": false,
     "input": [
      "from sympy import symbols\n",
      "from sympy.physics.mechanics import *"
     ],
     "language": "python",
     "metadata": {},
     "outputs": [],
     "prompt_number": 1
    },
    {
     "cell_type": "code",
     "collapsed": false,
     "input": [
      "n = 5"
     ],
     "language": "python",
     "metadata": {},
     "outputs": [],
     "prompt_number": 2
    },
    {
     "cell_type": "code",
     "collapsed": false,
     "input": [
      "q = dynamicsymbols('q:' + str(n + 1))  # Generalized coordinates\n",
      "u = dynamicsymbols('u:' + str(n + 1))  # Generalized speeds\n",
      "    \n",
      "m = symbols('m:' + str(n + 1))         # Mass of each bob\n",
      "l = symbols('l:' + str(n))             # Length of each link\n",
      "g, f, t = symbols('g f t')             # gravity, cart force, and time symbols"
     ],
     "language": "python",
     "metadata": {},
     "outputs": [],
     "prompt_number": 3
    },
    {
     "cell_type": "code",
     "collapsed": false,
     "input": [
      "I = ReferenceFrame('I')                # Inertial reference frame\n",
      "O = Point('O')                         # Origin point\n",
      "O.set_vel(I, 0)                        # Origin's velocity is zero\n",
      "       \n",
      "A = I.orientnew('A', 'Axis', [0, I.z]) # Cart reference frame\n",
      "P0 = Point('P0')                       # Hinge point of top link\n",
      "P0.set_pos(O, q[0] * A.x)              # Set velocity of P in A to be zero    \n",
      "P0.set_vel(I, u[0] * A.x)\n",
      "Pa0 = Particle('Pa0', P0, m[0])\n",
      "   \n",
      "frames = [A]                           # List to hold n link frames\n",
      "points = [P0]\n",
      "particles = [Pa0]                      # List to hold N particles\n",
      "forces = [(P0, f * A.x - m[0] * g * I.y)]                # List to hold N applied forces\n",
      "kindiffs = [q[0].diff(t) - u[0]]       # List to hold kinematic ODE's\n",
      "\n",
      "for i in range(n):\n",
      "    Bi = A.orientnew('B' + str(i), 'Axis', [q[i + 1], A.z]) # Create a new frame\n",
      "    Bi.set_ang_vel(A, u[i + 1] * A.z)                       # Set angular velocity\n",
      "    frames.append(Bi)                                                         # Add it to Frames list\n",
      "\n",
      "    Pi = points[-1].locatenew('P' + str(i + 1), l[i] * Bi.x)  # Create a new point,\n",
      "    Pi.v2pt_theory(points[-1], I, Bi)                         # Set velocity\n",
      "    points.append(Pi)\n",
      "    Pai = Particle('Pa' + str(i + 1), Pi, m[i + 1])                   # Create a new particle\n",
      "    particles.append(Pai)                                     # Add Pai to Particles list\n",
      "\n",
      "    forces.append((Pi, -m[i + 1] * g * I.y)) # Set the force applied at i-th Point\n",
      "        \n",
      "    kindiffs.append(q[i + 1].diff(t) - u[i + 1])  # Kinematic ODE:  dq_i / dt - u_i = 0\n",
      "\n",
      "kane = KanesMethod(I, q_ind=q, u_ind=u, kd_eqs=kindiffs) # Generate EoM's\n",
      "fr, frstar = kane.kanes_equations(forces, particles)   # fr + frstar = 0"
     ],
     "language": "python",
     "metadata": {},
     "outputs": [],
     "prompt_number": 4
    },
    {
     "cell_type": "markdown",
     "metadata": {},
     "source": [
      "Now that we can compute the symbolic equations of motion we can simulate the pendulum."
     ]
    },
    {
     "cell_type": "code",
     "collapsed": false,
     "input": [
      "from sympy import Dummy, lambdify\n",
      "from numpy import array, hstack, zeros, linspace, pi\n",
      "from numpy.linalg import solve\n",
      "from scipy.integrate import odeint"
     ],
     "language": "python",
     "metadata": {},
     "outputs": [],
     "prompt_number": 5
    },
    {
     "cell_type": "code",
     "collapsed": false,
     "input": [
      "arm_length = 1. / n\n",
      "bob_mass = 0.01 / n\n",
      "parameters = [g, f, m[0]]                                             # Parameter Definitions\n",
      "parameter_vals = [9.81, 0.0, 0.01 / n]                                      # First we define gravity\n",
      "for i in range(n):\n",
      "    parameters += [l[i], m[i + 1]]                               # Then each mass\n",
      "    parameter_vals += [arm_length, bob_mass]                     # and length"
     ],
     "language": "python",
     "metadata": {},
     "outputs": [],
     "prompt_number": 6
    },
    {
     "cell_type": "code",
     "collapsed": false,
     "input": [
      "dummy_symbols = [Dummy() for i in q + u]                     # Necessary to translate\n",
      "dummy_dict = dict(zip(q + u, dummy_symbols))                 # out of functions of time\n",
      "kds = kane.kindiffdict()                                       # Need to eliminate qdots\n",
      "MM = kane.mass_matrix_full.subs(kds).subs(dummy_dict)          # Substituting away qdots\n",
      "Fo = kane.forcing_full.subs(kds).subs(dummy_dict)              # and in dummy symbols\n",
      "mm = lambdify(dummy_symbols + parameters, MM)                # The actual call that gets\n",
      "fo = lambdify(dummy_symbols + parameters, Fo)                # us to a NumPy function"
     ],
     "language": "python",
     "metadata": {},
     "outputs": [],
     "prompt_number": 7
    },
    {
     "cell_type": "code",
     "collapsed": false,
     "input": [
      "def rhs(y, t, args):                                         # Creating the rhs function\n",
      "    into = hstack((y, args))                                 # States and parameters\n",
      "    return array(solve(mm(*into), fo(*into))).T[0]    # Solving for the udots"
     ],
     "language": "python",
     "metadata": {},
     "outputs": [],
     "prompt_number": 8
    },
    {
     "cell_type": "code",
     "collapsed": false,
     "input": [
      "y0 = hstack(( 0, pi / 2 * ones(len(q) - 1), 1e-3 * ones(len(u)) ))                 # Initial conditions, q and u\n",
      "t = linspace(0, 10, 1000)                                    # Time vector\n",
      "\n",
      "y = odeint(rhs, y0, t, args=(parameter_vals,))               # Actual integration"
     ],
     "language": "python",
     "metadata": {},
     "outputs": [],
     "prompt_number": 9
    },
    {
     "cell_type": "code",
     "collapsed": false,
     "input": [
      "from numpy import zeros, cos, sin, arange\n",
      "from matplotlib import pyplot as plt\n",
      "from matplotlib import animation\n",
      "from matplotlib.patches import Rectangle"
     ],
     "language": "python",
     "metadata": {},
     "outputs": [],
     "prompt_number": 10
    },
    {
     "cell_type": "code",
     "collapsed": false,
     "input": [
      "def animate_pendulum(t, states, length, filename=None):\n",
      "    \"\"\"Animates the n-pendulum and optionally saves it to file.\n",
      "\n",
      "    Parameters\n",
      "    ----------\n",
      "    t : ndarray, shape(m)\n",
      "        Time array.\n",
      "    states: ndarray, shape(m,p)\n",
      "        State vector where the first half are the angles in radians.\n",
      "    link_l: float\n",
      "        The length of the pendulums.\n",
      "    save: boolean, optional\n",
      "        If true an mp4 file will be saved of the animation.\n",
      "\n",
      "    \"\"\"\n",
      "    numpoints = states.shape[1] / 2\n",
      "\n",
      "    # First set up the figure, the axis, and the plot element we want to animate\n",
      "    fig = plt.figure()\n",
      "    ax = plt.axes(xlim=(-1, 1), ylim=(-1, 1), aspect='equal')\n",
      "    cart_width = 0.4\n",
      "    cart_height = 0.2\n",
      "    rect = Rectangle([states[0, 0] - cart_width / 2.0, -cart_height / 2],\n",
      "        cart_width, cart_height, fill=True, color='red', ec='black')\n",
      "    ax.add_patch(rect)\n",
      "    line, = ax.plot([], [], lw=2, marker='o', markersize=12)\n",
      "\n",
      "    # initialization function: plot the background of each frame\n",
      "    def init():\n",
      "        line.set_data([], [])\n",
      "        return line,\n",
      "\n",
      "    # animation function.  This is called sequentially\n",
      "    def animate(i):\n",
      "        rect.set_xy((states[i, 0] - cart_width / 2.0, -cart_height / 2))\n",
      "        x = hstack((states[i, 0], zeros((numpoints - 1))))\n",
      "        y = zeros((numpoints))\n",
      "        for j in arange(1, numpoints):\n",
      "            x[j] = x[j - 1] + length * cos(states[i, j])\n",
      "            y[j] = y[j - 1] + length * sin(states[i, j])\n",
      "        line.set_data(x, y)\n",
      "        return line,\n",
      "\n",
      "    # call the animator.  blit=True means only re-draw the parts that have changed.\n",
      "    anim = animation.FuncAnimation(fig, animate, frames=len(t), init_func=init,\n",
      "            interval=t[-1] / len(t) * 1000, blit=True, repeat=False)\n",
      "\n",
      "    if filename is not None:\n",
      "        # save the animation as an mp4.  This requires ffmpeg or mencoder to be\n",
      "        # installed.  The extra_args ensure that the x264 codec is used, so that\n",
      "        # the video can be embedded in html5.  You may need to adjust this for\n",
      "        # your system: for more information, see\n",
      "        # http://matplotlib.sourceforge.net/api/animation_api.html\n",
      "        anim.save(filename, fps=30, codec='libx264')\n",
      "        #anim.save(filename, fps=30, extra_args=['-vcodec', 'libx264']) #for html5 videofrom IPython.display import HTML\n",
      "        \n",
      "    return fig, anim"
     ],
     "language": "python",
     "metadata": {},
     "outputs": [],
     "prompt_number": 11
    },
    {
     "cell_type": "code",
     "collapsed": false,
     "input": [
      "fig, anim = animate_pendulum(t, y, arm_length, filename=\"open-loop.ogv\")"
     ],
     "language": "python",
     "metadata": {},
     "outputs": [
      {
       "output_type": "display_data",
       "png": "[encoded data removed]"
      }
     ],
     "prompt_number": 12
    },
    {
     "cell_type": "code",
     "collapsed": false,
     "input": [
      "from IPython.display import HTML\n",
      "h = \\\n",
      "\"\"\"\n",
      "<video width=\"640\" height=\"480\" controls>\n",
      "  <source src=\"files/open-loop.ogv\" type=\"video/ogg\">\n",
      "Your browser does not support the video tag.\n",
      "</video>\n",
      "\"\"\"\n",
      "HTML(h)"
     ],
     "language": "python",
     "metadata": {},
     "outputs": [
      {
       "html": [
        "\n",
        "<video width=\"640\" height=\"480\" controls>\n",
        "  <source src=\"files/open-loop.ogv\" type=\"video/ogg\">\n",
        "Your browser does not support the video tag.\n",
        "</video>\n"
       ],
       "output_type": "pyout",
       "prompt_number": 13,
       "text": [
        "<IPython.core.display.HTML at 0x4100790>"
       ]
      }
     ],
     "prompt_number": 13
    }
   ],
   "metadata": {}
  }
 ]
}